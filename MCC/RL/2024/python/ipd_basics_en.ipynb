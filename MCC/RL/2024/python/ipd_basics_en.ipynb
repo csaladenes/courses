{
 "cells": [
  {
   "cell_type": "markdown",
   "metadata": {
    "colab_type": "text",
    "collapsed": true,
    "id": "yRbUtz__A1a_"
   },
   "source": [
    "# The iterated prisoner's dilemma\n",
    "\n",
    "Author : Philippe Mathieu, [CRISTAL Lab](http://www.cristal.univ-lille.fr), [SMAC team](https://www.cristal.univ-lille.fr/?rubrique27&eid=17), [Lille University](http://www.univ-lille.fr), email : philippe.mathieu@univ-lille.fr\n",
    "\n",
    "Contributors : Louisa Fodil (CRISTAL/SMAC), Céline Petitpré (CRISTAL/SMAC)\n",
    "\n",
    "Creation : 18/01/2018\n",
    "\n",
    "## Introduction\n",
    "\n",
    "The Prisoner's Dilemma (PD) is a **simultaneous**, **two-player**, **non-zero-sum** game, highlighted by Merill Flood & Melvin Dreschler in 1950 to show that Nash's balance is not always ideal. The iterated version of the game (IPD) allows you to express strategies that are based on the game history, and therefore learn from the past. In 1980 Robert Axelrod organized a competition for the iterated version of the game in which one of the participants, Anatol Rappoport, highlighted the famous TFT strategy. This iterated version and TFT strategy were popularized in 1984 in Robert Axelrod's book \"The Evolution of Cooperation\". Since then, thousands of publications have been produced on this subject, in all fields!\n",
    "\n",
    "This notebook aims to show how to establish and compare strategies to this game.\n",
    "\n",
    "We consider here a `Game` class allowing to code a game\n",
    "\n",
    "----\n",
    "### Game(tab, actions)\n",
    "- `tab` : the list of score pairs\n",
    "- `actions` : the list of possible strategies\n",
    "\n",
    "**Methods**\n",
    "- `getDominantStrategies(self, strict='True')` which prints a list of indexes of non-dominated strategies and returns a new Game with this new matrix\n",
    "- `getNash(self)` which returns a list of Nash equilibrium indexes.\n",
    "- `getPareto(self)` which returns a list of indexes of Pareto's equilibria"
   ]
  },
  {
   "cell_type": "code",
   "execution_count": null,
   "metadata": {
    "colab": {},
    "colab_type": "code",
    "id": "m3GwEBZoA1bB"
   },
   "outputs": [],
   "source": [
    "%run ../src/game.py\n",
    "\n",
    "dip =[(3,3),(0,5),(5,0),(1,1)]   # Prisoner's dilemma\n",
    "g = Game(dip,['C','D'])\n",
    "g.getNash()\n"
   ]
  },
  {
   "cell_type": "markdown",
   "metadata": {
    "colab_type": "text",
    "id": "UUUxBWJNA1bI"
   },
   "source": [
    "# A strategy\n",
    "\n",
    "A strategy aims to decide which move to play. In addition to the payoff matrix, the information available for a strategy is the moves played by both players in the past. The simplest strategies are obviously those that do not take into account this past, such as strategies that periodically play the same sequence of moves. To ensure a principle of autonomy of each agent, a strategy is of course able to provide his next move, but takes care of storing his previous moves if necessary.\n",
    "\n",
    "\n",
    "#### Let's create a class of strategies of this category\n",
    "The class we define here is very simple: strategies that periodically play moves, without thinking much! For the moment, it is not linked to any game since this kind of behaviour can be found in any game."
   ]
  },
  {
   "cell_type": "code",
   "execution_count": null,
   "metadata": {
    "colab": {},
    "colab_type": "code",
    "id": "OMrjZ1ciA1bK"
   },
   "outputs": [],
   "source": [
    "from abc import abstractmethod\n",
    "\n",
    "\n",
    "class Strategy:\n",
    "    def setMemory(self, mem):\n",
    "        pass\n",
    "\n",
    "    def getAction(self, tick):\n",
    "        pass\n",
    "\n",
    "    def __copy__(self):\n",
    "        pass\n",
    "\n",
    "    def update(self, x, y):\n",
    "        pass\n",
    "\n",
    "\n",
    "class Periodic(Strategy):\n",
    "    def __init__(self, sequence, name=None):\n",
    "        super().__init__()\n",
    "        self.sequence = sequence.upper()\n",
    "        self.step = 0\n",
    "        self.name = \"per_\" + sequence if (name == None) else name\n",
    "\n",
    "    def getAction(self, tick):\n",
    "        return self.sequence[tick % len(self.sequence)]\n",
    "\n",
    "    def clone(self):\n",
    "        object = Periodic(self.sequence, self.name)\n",
    "        return object\n",
    "\n",
    "    def update(self, x, y):\n",
    "        pass\n",
    "\n",
    "\n",
    "print(\"All is ok\")"
   ]
  },
  {
   "cell_type": "markdown",
   "metadata": {},
   "source": [
    "#### Let's test our Periodic class"
   ]
  },
  {
   "cell_type": "code",
   "execution_count": null,
   "metadata": {
    "colab": {},
    "colab_type": "code",
    "id": "EfyXlQEHA1bO",
    "outputId": "74d8e124-29e6-4706-fb27-7f606eb09335"
   },
   "outputs": [],
   "source": [
    "s1 = Periodic(\"abc\")\n",
    "print(s1.name,end=\"\\t\")\n",
    "for i in range (0,10):\n",
    "    print(s1.getAction(i), end=' ')\n",
    "# there must be 10 moves. it starts with A and ends with A.    "
   ]
  },
  {
   "cell_type": "markdown",
   "metadata": {
    "colab_type": "text",
    "id": "_C-a0YOMA1bS"
   },
   "source": [
    "# One meeting\n",
    "A meeting involves two strategies during a number of moves at a fixed game. The score of each is the sum of the scores obtained on each move, according to the game matrix."
   ]
  },
  {
   "cell_type": "code",
   "execution_count": null,
   "metadata": {
    "colab": {},
    "colab_type": "code",
    "id": "TKAUYaK8A1bU"
   },
   "outputs": [],
   "source": [
    "class Meeting:\n",
    "    def __init__(self, game, s1, s2, length=1000):\n",
    "        self.game = game\n",
    "        self.s1 = s1.clone()\n",
    "        self.s2 = s2.clone()\n",
    "        self.length = length\n",
    "        self.nb_cooperation_s1 = 0\n",
    "        self.nb_cooperation_s2 = 0\n",
    "\n",
    "    def reinit(self):\n",
    "        self.s1_score = 0\n",
    "        self.s2_score = 0\n",
    "        self.s1_rounds = []\n",
    "        self.s2_rounds = []\n",
    "\n",
    "    def run(self):\n",
    "        self.reinit()\n",
    "        for tick in range(0, self.length):\n",
    "            c1 = self.s1.getAction(tick).upper()\n",
    "            c2 = self.s2.getAction(tick).upper()\n",
    "            if c1 == \"C\":\n",
    "                self.nb_cooperation_s1 += 1\n",
    "            if c2 == \"C\":\n",
    "                self.nb_cooperation_s2 += 1\n",
    "            self.s1_rounds.append(c1)\n",
    "            self.s2_rounds.append(c2)\n",
    "            self.s1.update(c1, c2)\n",
    "            self.s2.update(c2, c1)\n",
    "            act = self.game.actions\n",
    "            self.s1_score += self.game.scores[\"x\"][act.index(c1), act.index(c2)]\n",
    "            self.s2_score += self.game.scores[\"y\"][act.index(c1), act.index(c2)]\n",
    "\n",
    "    def prettyPrint(self,max=20) :\n",
    "        print(\"{:8}\\t{} = {}\".format(self.s1.name, ' '.join(map(str, self.s1_rounds)) , self.s1_score))\n",
    "        print(\"{:8}\\t{} = {}\".format(self.s2.name, ' '.join(map(str, self.s2_rounds)) , self.s2_score))\n",
    "\n",
    "print(\"All is ok\")"
   ]
  },
  {
   "cell_type": "markdown",
   "metadata": {
    "colab_type": "text",
    "id": "68U3c_SQA1bY"
   },
   "source": [
    "A meeting between two strategies is trivial: we initialize a game, we create 2 strategies, and we pass them on to the Meeting."
   ]
  },
  {
   "cell_type": "code",
   "execution_count": null,
   "metadata": {
    "colab": {},
    "colab_type": "code",
    "id": "0864WspmA1ba",
    "outputId": "64c3249c-3ee6-49d3-a2e3-815687254e17"
   },
   "outputs": [],
   "source": [
    "dip =[(3,3),(0,5),(5,0),(1,1)]   # Prisoner's dilemma\n",
    "g = Game(dip,['C','D'])\n",
    "s1=Periodic(\"CCD\")\n",
    "s2=Periodic(\"DDC\")\n",
    "m = Meeting(g,s1,s2,10)\n",
    "m.run()\n",
    "m.prettyPrint()\n",
    "# We must get 15,35\n",
    "print()\n",
    "print(\"Number of cooperations : \" )\n",
    "print (m.s1.name+\"\\t\" + str(m.nb_cooperation_s1))\n",
    "print (m.s2.name+\"\\t\" + str(m.nb_cooperation_s2))"
   ]
  },
  {
   "cell_type": "markdown",
   "metadata": {
    "colab_type": "text",
    "id": "FDFZwmWaA1be"
   },
   "source": [
    "# A tournament\n",
    "\n",
    "A tournament is applied to a set of strategies. It consists in bringing together any couple of strategies in a meeting, including each strategy against itself. This kind of tournament is called a \"round-robin\" tournament. In this way, a square matrix of scores is filled in. In such a tournament, the score of each strategy is the sum of the scores it has obtained. The winning strategy is the one with the highest score.\n",
    "\n",
    "A tournament is now defined using 4 parameters: the game to which it is applied, all the strategies evaluated, the length of the games, the number of repetitions performed if needed (if random is used in strategies)."
   ]
  },
  {
   "cell_type": "code",
   "execution_count": null,
   "metadata": {
    "colab": {},
    "colab_type": "code",
    "id": "NvsSXzRpA1bf"
   },
   "outputs": [],
   "source": [
    "import pandas as pd\n",
    "import numpy as np\n",
    "\n",
    "\n",
    "class Tournament:\n",
    "    def __init__(self, game, strategies, length=1000, repeat=1):\n",
    "        self.strategies = strategies\n",
    "        self.game = game\n",
    "        self.length = length\n",
    "        self.repeat = repeat\n",
    "        size = len(strategies)\n",
    "        df = pd.DataFrame(np.zeros((size, size + 1), dtype=np.int32))\n",
    "        df.columns, df.index = (\n",
    "            [s.name for s in self.strategies] + [\"Total\"],\n",
    "            [s.name for s in self.strategies],\n",
    "        )\n",
    "        self.matrix = df\n",
    "        df2 = pd.DataFrame(np.zeros((size, size + 1), dtype=np.int32))\n",
    "        df2.columns, df2.index = (\n",
    "            [s.name for s in self.strategies] + [\"Total\"],\n",
    "            [s.name for s in self.strategies],\n",
    "        )\n",
    "        self.cooperations = df2\n",
    "\n",
    "    def run(self):\n",
    "        for k in range(self.repeat):\n",
    "            for i in range(0, len(self.strategies)):\n",
    "                for j in range(i, len(self.strategies)):\n",
    "                    meet = Meeting(\n",
    "                        self.game, self.strategies[i], self.strategies[j], self.length\n",
    "                    )\n",
    "                    meet.run()\n",
    "                    self.matrix.at[\n",
    "                        self.strategies[i].name, self.strategies[j].name\n",
    "                    ] += meet.s1_score\n",
    "                    if (i != j):\n",
    "                        self.matrix.at[\n",
    "                            self.strategies[j].name, self.strategies[i].name\n",
    "                        ] += meet.s2_score\n",
    "                    self.cooperations.at[\n",
    "                        self.strategies[i].name, self.strategies[j].name\n",
    "                    ] += meet.nb_cooperation_s1\n",
    "                    if (i != j):\n",
    "                        self.cooperations.at[\n",
    "                            self.strategies[j].name, self.strategies[i].name\n",
    "                        ] += meet.nb_cooperation_s2\n",
    "        self.matrix[\"Total\"] = self.matrix.sum(axis=1)\n",
    "        self.matrix.sort_values(by=\"Total\", ascending=False, inplace=True)\n",
    "        rows = list(self.matrix.index) + [\"Total\"]\n",
    "        self.matrix = self.matrix.reindex(columns=rows)\n",
    "        self.cooperations[\"Total\"] = self.cooperations.sum(axis=1)\n",
    "        self.cooperations.sort_values(by=\"Total\", ascending=False, inplace=True)\n",
    "        rows = list(self.cooperations.index) + [\"Total\"]\n",
    "        self.cooperations = self.cooperations.reindex(columns=rows)\n",
    "\n",
    "\n",
    "print(\"All is ok\")"
   ]
  },
  {
   "cell_type": "markdown",
   "metadata": {},
   "source": [
    "#### Let's do a tournament.\n",
    "The Prisoners' Dilemma is a **non-zero-sum** game: you don't win the same thing in all situations. It is important to note that in the tournament we do not count the number of wins but the total scores!\n",
    "\n",
    "What is then the matrix of scores obtained for a tournament between a few basic strategies?"
   ]
  },
  {
   "cell_type": "code",
   "execution_count": null,
   "metadata": {
    "colab": {},
    "colab_type": "code",
    "id": "oXMo5n8BA1bi"
   },
   "outputs": [],
   "source": [
    "bag = []\n",
    "bag.append(Periodic('C'))\n",
    "bag.append(Periodic('D'))\n",
    "bag.append(Periodic('DDC'))\n",
    "bag.append(Periodic('CCD'))\n",
    "t=Tournament(g,bag,10)\n",
    "t.run()\n",
    "print(\"The score matrix: \")\n",
    "print(t.matrix)\n",
    "print()\n",
    "# SUR 10 COUPS : [('per_D', 120), ('per_DDC', 102), ('per_CCD', 78), ('per_C', 60)]\n",
    "print(\"The cooperation matrix: \")\n",
    "print(t.cooperations)"
   ]
  },
  {
   "cell_type": "markdown",
   "metadata": {
    "colab_type": "text",
    "id": "Jnn5vuBuA1bm"
   },
   "source": [
    "## Generate sets of strategies\n",
    "\n",
    "To test a strategy, it is enough to compare it with a few others. Constituting a \"soup\" of strategies to test the performance of a given strategy can be considered subjective. The best-case scenario is to build indisputable soups, for example by building sets of all strategies that meet a global constraint.\n",
    "For example, we can constitute the set of all the periodicals of period 1 (there are 2) and/or period 2 (there are $2^2=4$) and/or period 3 (there are $2^3=8$), or even all together (it should be noted that by combining these three sets, CCC is generated, which obviously corresponds also to CC or C)."
   ]
  },
  {
   "cell_type": "code",
   "execution_count": null,
   "metadata": {
    "colab": {},
    "colab_type": "code",
    "id": "32Oxpz09A1bo",
    "outputId": "d3fe95b4-06a7-49f1-a7ab-68ce3aa43024"
   },
   "outputs": [],
   "source": [
    "import itertools\n",
    "cards = ['C','D']\n",
    "periodics = [p for p in itertools.product(cards, repeat=1)]+[p for p in itertools.product(cards, repeat=2)] + [p for p in itertools.product(cards, repeat=3)]\n",
    "strats = [Periodic(''.join(p)) for p in periodics] # join to transform in strings\n",
    "print(str(len(strats))+\" stratégies générées\")\n",
    "# 14 are generated: 2 with period lengh of 1, 4 with period lengh of 2, 8 with period lengh of 3"
   ]
  },
  {
   "cell_type": "markdown",
   "metadata": {
    "colab_type": "text",
    "id": "kb4I4kJYA1br"
   },
   "source": [
    "# Ecological competitions\n",
    "\n",
    "Tournaments give an interesting, but insufficient ranking. They do not study the robustness of a strategy according to the number of opponents' representants. Ecological competition responds to this problem: it makes it possible to vary the populations of each strategy. The principle of ecological competition is very simple. Initially, we consider `pop` representants of each of the `s` strategies evaluated. The `pop*s` representants all play against each other in a tournament. In step 1, the representants of each strategy are determined in proportion to their success in the previous step. The better you are, the more descendants you will have. An ecological competition therefore requires a strategy to be robust to changes in the number of representatives of each opponent. An ecological ranking is therefore more \"robust\" than a tournament ranking. It is immediately understood that to be well ranked, it is preferable to play very well against your own colleagues, since with a little luck, they will be more and more numerous.\n",
    "An ecological competition can then be represented on a temporal graph, the generations on the abscissa and the populations of each strategy on the ordinate. We will use `matplotlib` to compute these graphs."
   ]
  },
  {
   "cell_type": "code",
   "execution_count": null,
   "metadata": {
    "colab": {},
    "colab_type": "code",
    "id": "o-i2hEqGA1bs"
   },
   "outputs": [],
   "source": [
    "import pandas\n",
    "import copy\n",
    "import math\n",
    "import matplotlib.pyplot as plt\n",
    "\n",
    "%matplotlib inline\n",
    "\n",
    "\n",
    "class Ecological:\n",
    "    def __init__(self, game, strategies, length=1000, repeat=1, pop=100):\n",
    "        self.strategies = strategies\n",
    "        self.pop = pop\n",
    "        self.game = game\n",
    "        self.length = length\n",
    "        self.generation = 0  # Number of the current generation\n",
    "        self.base = pop * len(strategies)\n",
    "        self.historic = pandas.DataFrame(columns=[strat.name for strat in strategies])\n",
    "        self.historic.loc[0] = [pop for x in range(len(strategies))]\n",
    "        self.extinctions = dict((s.name, math.inf) for s in strategies)\n",
    "        self.cooperations = dict((s.name, 0) for s in strategies)\n",
    "        self.listeCooperations = list()\n",
    "        self.scores = dict((s.name, 0) for s in strategies)\n",
    "        self.tournament = Tournament(self.game, self.strategies, length, repeat)\n",
    "        self.tournament.run()\n",
    "\n",
    "    def run(self):\n",
    "        dead = 0\n",
    "        stab = False\n",
    "        while (self.generation < 1000) and (stab == False):\n",
    "            parents = list(copy.copy(self.historic.loc[self.generation]))\n",
    "            for i in range(len(self.strategies)):\n",
    "                strat = self.strategies[i].name\n",
    "                if self.historic.at[self.generation, strat] != 0:\n",
    "                    score = 0\n",
    "                    cooperations = 0\n",
    "                    for j in range(len(self.strategies)):\n",
    "                        strat2 = self.strategies[j].name\n",
    "                        if self.historic.at[self.generation, strat2] != 0:\n",
    "                            if i == j:\n",
    "                                score += (\n",
    "                                    self.historic.at[self.generation, strat] - 1\n",
    "                                ) * self.tournament.matrix.at[strat, strat2]\n",
    "                                cooperations += (\n",
    "                                    self.historic.at[self.generation, strat] - 1\n",
    "                                ) * self.tournament.cooperations.at[strat, strat2]\n",
    "                            else:\n",
    "                                score += (\n",
    "                                    self.historic.at[self.generation, strat2]\n",
    "                                    * self.tournament.matrix.at[strat, strat2]\n",
    "                                )\n",
    "                                cooperations += (\n",
    "                                    self.historic.at[self.generation, strat2]\n",
    "                                    * self.tournament.cooperations.at[strat, strat2]\n",
    "                                )\n",
    "                        self.scores[strat] = score\n",
    "                        self.cooperations[strat] = cooperations\n",
    "\n",
    "            total = 0\n",
    "            totalCooperations = 0\n",
    "            for strat in self.strategies:\n",
    "                total += (\n",
    "                    self.scores[strat.name]\n",
    "                    * self.historic.at[self.generation, strat.name]\n",
    "                )\n",
    "                totalCooperations += (\n",
    "                    self.cooperations[strat.name]\n",
    "                    * self.historic.at[self.generation, strat.name]\n",
    "                )\n",
    "            for strat in self.strategies:\n",
    "                parent = self.historic.at[self.generation, strat.name]\n",
    "                if self.scores[strat.name] != 0:\n",
    "                    self.historic.at[self.generation + 1, strat.name] = math.floor(\n",
    "                        self.base * parent * self.scores[strat.name] / total\n",
    "                    )\n",
    "                elif self.scores[strat.name] == 0:\n",
    "                    self.historic.at[self.generation + 1, strat.name] = 0\n",
    "                    dead += 1\n",
    "                if (parent != 0) and (\n",
    "                    self.historic.at[self.generation + 1, strat.name] == 0\n",
    "                ):\n",
    "                    self.extinctions[strat.name] = self.generation + 1\n",
    "                elif self.historic.at[self.generation + 1, strat.name] != 0:\n",
    "                    self.extinctions[strat.name] = (\n",
    "                        self.historic.at[self.generation + 1, strat.name] * 1000\n",
    "                    )\n",
    "                if dead == len(self.strategies) - 1:\n",
    "                    stab = True\n",
    "            self.listeCooperations.append(\n",
    "                totalCooperations / (self.base * self.length * len(self.strategies))\n",
    "            )\n",
    "            self.generation += 1\n",
    "            if parents == list(self.historic.loc[self.generation]):\n",
    "                stab = True\n",
    "        trie = sorted(self.extinctions.items(), key=lambda t: t[1], reverse=True)\n",
    "        df_trie = pandas.DataFrame()\n",
    "        for t in trie:\n",
    "            df_trie[t[0]] = self.historic[t[0]]\n",
    "        self.historic = df_trie\n",
    "        return self.historic\n",
    "\n",
    "    def saveData(self):\n",
    "        date = datetime.datetime.now()\n",
    "        self.historic.to_csv(str(date) + \".csv\", sep=\";\", encoding=\"utf-8\")\n",
    "\n",
    "    def drawPlot(self, nbCourbes=None, nbLegends=None):\n",
    "        nbCourbes = len(self.strategies) if (nbCourbes == None) else nbCourbes\n",
    "        nbLegends = len(self.strategies) if (nbLegends == None) else nbLegends\n",
    "        strat = self.historic.columns.tolist()\n",
    "        for i in range(nbCourbes):\n",
    "            plt.plot(\n",
    "                self.historic[strat[i]],\n",
    "                label=strat[i] if (i < nbLegends) else \"_nolegend_\",\n",
    "            )\n",
    "        plt.legend(bbox_to_anchor=(0, 1), loc=2, borderaxespad=0.0)\n",
    "        plt.ylabel(\"Population\")\n",
    "        plt.xlabel(\"Generation\")\n",
    "        plt.show()\n",
    "        # date = datetime.datetime.now()\n",
    "        # plt.savefig(str(date)+'.png', dpi=1000)\n",
    "\n",
    "    def drawCooperation(self):\n",
    "        plt.plot(self.listeCooperations)\n",
    "        plt.ylabel(\"Percentage of cooperations\")\n",
    "        plt.xlabel(\"Generation\")\n",
    "        plt.ylim(0, 101)\n",
    "        plt.show()\n",
    "\n",
    "\n",
    "print(\"All is ok\")"
   ]
  },
  {
   "cell_type": "markdown",
   "metadata": {},
   "source": [
    "#### Organize an ecological competition with All_C (which always cooperates) and All_D (which always betrays)\n",
    "Once the competition is completed, it is possible to display the population evolution curve of each strategy as well as the evolution curve of the cooperations played in each generation."
   ]
  },
  {
   "cell_type": "code",
   "execution_count": null,
   "metadata": {
    "scrolled": true
   },
   "outputs": [],
   "source": [
    "All_C = Periodic(\"C\",\"All_C\")\n",
    "All_D = Periodic(\"D\",\"All_D\")\n",
    "eco = Ecological(g, [All_C, All_D])\n",
    "eco.run()\n",
    "print(\"Evolution de la population\")\n",
    "eco.drawPlot()\n",
    "print(\"Historique de la population\")\n",
    "print(eco.historic)\n",
    "print(\"Evolution des cooperations\")\n",
    "eco.drawCooperation()\n",
    "print(eco.scores)"
   ]
  },
  {
   "cell_type": "markdown",
   "metadata": {},
   "source": [
    "## Exercise 1"
   ]
  },
  {
   "cell_type": "code",
   "execution_count": null,
   "metadata": {
    "scrolled": true
   },
   "outputs": [],
   "source": [
    "# Compute an ecological competition with All_C, All_D, Periodic(\"CDD\") and Periodic(\"CCD\")\n"
   ]
  },
  {
   "cell_type": "markdown",
   "metadata": {
    "colab_type": "text",
    "id": "tDULeYlnA1b0"
   },
   "source": [
    "# Reactive strategies\n",
    "Strategies are called \"reactive\" if their actions depend on the opponent's past actions. Some of them are very simple to understand. Among the most famous are\n",
    "- `Tft` (abbreviation of \"tit for tat\" or \"donnant-donnant\" as we would say in French) which starts by cooperating and then plays the same thing as the opponent on the previous round\n",
    "- `Spiteful` who cooperates as long as the opponent has cooperated, but who never forgives him if he has betrayed once "
   ]
  },
  {
   "cell_type": "code",
   "execution_count": null,
   "metadata": {
    "colab": {},
    "colab_type": "code",
    "id": "gr7FFb_0A1b1",
    "outputId": "41a4f22d-c414-483d-ec1c-c431153e6127"
   },
   "outputs": [],
   "source": [
    "class Tft(Strategy):\n",
    "    def __init__(self):\n",
    "        super().__init__()\n",
    "        self.name = \"tft\"\n",
    "        self.hisPast = \"\"\n",
    "\n",
    "    def getAction(self, tick):\n",
    "        return \"C\" if (tick == 0) else self.hisPast[-1]\n",
    "\n",
    "    def clone(self):\n",
    "        return Tft()\n",
    "\n",
    "    def update(self, my, his):\n",
    "        self.hisPast += his\n",
    "\n",
    "\n",
    "class Spiteful(Strategy):\n",
    "    def __init__(self):\n",
    "        super().__init__()\n",
    "        self.name = \"spiteful\"\n",
    "        self.hisPast = \"\"\n",
    "        self.myPast = \"\"\n",
    "\n",
    "    def getAction(self, tick):\n",
    "        if tick == 0:\n",
    "            return \"C\"\n",
    "        if self.hisPast[-1] == \"D\" or self.myPast[-1] == \"D\":\n",
    "            return \"D\"\n",
    "        else:\n",
    "            return \"C\"\n",
    "\n",
    "    def clone(self):\n",
    "        return Spiteful()\n",
    "\n",
    "    def update(self, my, his):\n",
    "        self.myPast += my\n",
    "        self.hisPast += his\n",
    "\n",
    "\n",
    "print(\"All is ok\")"
   ]
  },
  {
   "cell_type": "markdown",
   "metadata": {},
   "source": [
    "#### Behaviour of these reactive strategies\n",
    "Let's check the behavior of these two new strategies against `Periodic(\"CCD\")` in a Meeting."
   ]
  },
  {
   "cell_type": "code",
   "execution_count": null,
   "metadata": {},
   "outputs": [],
   "source": [
    "m = Meeting(g,Tft(),Periodic(\"CCD\"),10)\n",
    "m.run()\n",
    "m.prettyPrint()\n",
    "print(\"\")\n",
    "m = Meeting(g,Spiteful(),Periodic(\"CCD\"),10)\n",
    "m.run()\n",
    "m.prettyPrint()"
   ]
  },
  {
   "cell_type": "markdown",
   "metadata": {},
   "source": [
    "## Exercise 2"
   ]
  },
  {
   "cell_type": "code",
   "execution_count": null,
   "metadata": {},
   "outputs": [],
   "source": [
    "# Compute an ecological competition with 5 strategies : All_C, All_D, Tft et Periodic(\"CCD\")\n",
    "\n",
    "# IN THIS EXPERIENCE, All_D WINS THE TOURNAMENT, BUT IT IS TFT THAT WINS THE ECOLOGICAL COMPETITION!\n",
    "# Note the evolution of cooperation : it reaches 100%\n"
   ]
  },
  {
   "cell_type": "markdown",
   "metadata": {},
   "source": [
    "This experiment clearly illustrates the prey/predator phenomena that can occur. `All_D` wins the tournament, so it increases in population. But its gain is mainly at the expense of `All_C`. If the latter fails, then `All_D` also fails due to a lack of strategy to exploit. The result is a magnificent trend reversal. Winning a tournament is not the same as winning an ecological competition.\n",
    "If we look at the evolution of cooperation, another phenomenon appears: the emergence of generalized cooperation: without any regulatory system, we have gone from 60% cooperation, to less than 40% cooperation and finally to 100% cooperation!\n",
    "\n",
    "Some fundamental points:\n",
    "- There are an infinite number of strategies\n",
    "- there is no perfect strategy in the absolute. There are only strategies that behave well \"in general\". You can't play optimally against everyone, especially because of the first round.\n",
    "- Tft never wins against anyone.\n",
    "- All_D never loses against anyone.\n",
    "- It's a non-zero-sum game: the important thing is not to win meetings but to win points! All_D` never loses but at what cost! Always making war brings back only very few points\n",
    "- Alexrod already said it: to be good at this game you have to:\n",
    "    - not to be aggressive (not to betray the first)\n",
    "    - be responsive\n",
    "    - know how to forgive\n",
    "- This is the case of `Tft` which behaves very well in general, but since Rappoport we have found much better!\n",
    "- Without any regulatory system, there is most of the time **emergence of cooperation** since we end up with 100% cooperation between individuals."
   ]
  },
  {
   "cell_type": "code",
   "execution_count": null,
   "metadata": {
    "colab": {},
    "colab_type": "code",
    "id": "NqyMG-t1A1b6"
   },
   "outputs": [],
   "source": [
    "# Accès aux données des DataFrame\n",
    "\n",
    "# Attention ! avec un dataframe df\n",
    "# chaque colonne nommée peut etre utilisée comme attribut\n",
    "# Si on met un seul crochet, c'est une colonne\n",
    "# donc tournoi.Total et tournoi['Total'] c'est pareil\n",
    "# \n",
    "# si on met des crochets directs c'est df[Col][Lig]\n",
    "# que l'on peut donc aussi écrire df.Col[lig]\n",
    "# Si on utilise les fonctions loc, iloc et at, c'est df.iloc[lig,col]\n",
    "# donc tournoi['Total'][1] est équivalent à tournoi.iloc[1,4]\n",
    "# Par ailleurs, par défaut le dataframe utilise des entiers comme index\n",
    "# dans iloc, on met des index ... sauf si on utilise la notation a:b auquel cas ce sont des adresses relatives\n",
    "\n",
    "tournoi=eco.tournament.matrix\n",
    "#print(\"--- La matrice complète du tournoi triée\")\n",
    "#print(tournoi) \n",
    "#print(\"--- Les gagnants du tournoi\")\n",
    "#print(tournoi['Total']) \n",
    "#print(\"--- Les 3 premiers gagnants du tournoi\")\n",
    "#print(tournoi['Total'][0:3])\n",
    "#print(\"--- Les gagnants qui ont fait plus de 10000\")\n",
    "#print(tournoi['Total'][tournoi['Total']>10000])\n",
    "\n",
    "\n",
    "evol=eco.historic\n",
    "#print(\"--- L'historique complet trié\")\n",
    "#print(evol)\n",
    "#print(\"--- Les populations finales classées\")\n",
    "#print(evol.iloc[eco.generation])\n",
    "#print(evol.iloc[-1])\n",
    "#print(evol.tail(1))\n",
    "#print(\"--- Les 2 premiers de la compétition\")\n",
    "#print(evol.iloc[-1][0:2]) \n",
    "#print(\"--- Les derniers survivants\")\n",
    "#print(evol.iloc[-1][evol.iloc[-1]>0]) \n",
    "#print(\"--- la ligne quand tft=340 ?\")\n",
    "#evol.loc[evol.tft==340]\n",
    "#print(\"--- A quel indice per_C et per_D se croisent ?\")\n",
    "#print(evol.loc[evol.per_C > evol.per_D].loc[evol.per_D!=0])\n",
    "# Ecrire l'équivalent de select * from evol where ...\n",
    "#evol.loc[(evol.tft>300) & (evol.per_D>0)]\n",
    "# depuis pandas0.13  ... s'écrit\n",
    "#evol.query('tft>300 & per_D>0')\n",
    "\n",
    "#eco.drawPlot()\n"
   ]
  },
  {
   "cell_type": "markdown",
   "metadata": {},
   "source": [
    "#### Three other classical reactive strategies\n",
    "this time they are strategies based on the round mostly played by the opponent\n",
    "- `SoftMajority` : It plays the majority round played by the opponent in the past. In case of a tie, it cooperates.\n",
    "- `HardMajority` : It plays the majority round played by the opponent in the past. In case of a tie, it defects.\n",
    "\n",
    "The difference between SoftMajority and HardMajority is slight. It should be noted that `HardMajority` is spontaneously aggressive. This characteristic means that it will generally behave much less well than `SoftMajority`.\n",
    "\n",
    "`Gradual`: Gradual cooperates on the first move, then if the opponent has just betrayed her for the nth time, enters a period of retaliation (successive Defect) of n rounds followed by 2 cooperation moves."
   ]
  },
  {
   "cell_type": "markdown",
   "metadata": {},
   "source": [
    "## Exercise 3"
   ]
  },
  {
   "cell_type": "code",
   "execution_count": null,
   "metadata": {},
   "outputs": [],
   "source": [
    "# Encode SoftMajority which plays what its opponent played in majority. In the event of a tie, it shall play Cooperate\n",
    "\n",
    "            \n",
    "# Encode HardMajority which plays what its opponent played in majority. In the event of a tie, it shall Defect\n",
    "            \n",
    "            \n",
    "# Encode Gradual. Gradual cooperates on the first move, then if the opponent has just betrayed her \n",
    "# for the nth time, enters a period of retaliation (successive Defect) of n rounds followed by 2 \n",
    "# cooperation moves \n"
   ]
  },
  {
   "cell_type": "code",
   "execution_count": null,
   "metadata": {},
   "outputs": [],
   "source": [
    "# Test each of them, by uncommenting the lines, against Periodic(\"CD\") on 40 rounds\n",
    "\n",
    "# test HardMajority against Periodic (\"CD\") on 40 rounds\n",
    "# m = Meeting(g,HardMajority(),Periodic(\"CD\"),40)\n",
    "# m.run()\n",
    "# m.prettyPrint(max=40)\n",
    "# print(\"it should be 100-100\")\n",
    "# print()\n",
    "\n",
    "# test SoftMajority against Periodic (\"CD\") on 40 rounds\n",
    "# m = Meeting(g,SoftMajority(),Periodic(\"CD\"),40)\n",
    "# m.run()\n",
    "# m.prettyPrint(max=40)\n",
    "# print(\"it should be 60-160)\n",
    "\n",
    "# test Gradual against Periodic (\"CD\") on 40 rounds\n",
    "# m = Meeting(g,Gradual(),Periodic(\"CD\"),40)\n",
    "# m.run()\n",
    "# m.prettyPrint(max=40)\n",
    "# print(\"it should be 103-63\")\n"
   ]
  },
  {
   "cell_type": "markdown",
   "metadata": {
    "colab_type": "text",
    "id": "h6IL_hTRA1b9"
   },
   "source": [
    "## The memory family\n",
    "An elegant way to generate strategies is to define a genotype and instantiate it in every possible way: It is easy and objective. A genotype is built here based on the memory of strategies. A strategy belonging to the set `Mem(x,y)` reason on its last x moves as well as the last y moves of its opponent. For example, a strategy belonging to the family `Mem(1,1)` reasoned on its last move and the last move played by its opponent. There is the first move, then 2^2 possible configurations, so a genotype of 5 cells. Instanciated in every possible way, this is therefore 2^5 strategies in this set."
   ]
  },
  {
   "cell_type": "code",
   "execution_count": null,
   "metadata": {
    "colab": {},
    "colab_type": "code",
    "id": "nDqpxI2FA1b_",
    "outputId": "483ee578-ca75-454a-caef-5c8db14269c4"
   },
   "outputs": [],
   "source": [
    "import collections\n",
    "\n",
    "class Mem(Strategy):\n",
    "    def __init__(self, x, y, genome, name=None):\n",
    "        self.name = name\n",
    "        self.x = x\n",
    "        self.y = y\n",
    "        self.genome = genome\n",
    "        if name == None:  # Default name is the used  if the user does not define it\n",
    "            self.name = genome\n",
    "        self.myMoves = collections.deque(maxlen=x)  # contains my x last moves\n",
    "        self.itsMoves = collections.deque(maxlen=y)  # contains its y last moves\n",
    "\n",
    "    def clone(self):\n",
    "        return Mem(self.x, self.y, self.genome, self.name)\n",
    "\n",
    "    def getAction(self, tick):\n",
    "        if tick < max(self.x, self.y):\n",
    "            return self.genome[tick]\n",
    "        cpt = 0\n",
    "        for i in range(self.x - 1, -1, -1):\n",
    "            cpt *= 2\n",
    "            if self.myMoves[i] == \"D\":\n",
    "                cpt += 1\n",
    "        for i in range(self.y - 1, -1, -1):\n",
    "            cpt *= 2\n",
    "            if self.itsMoves[i] == \"D\":\n",
    "                cpt += 1\n",
    "        cpt += max(self.x, self.y)\n",
    "        return self.genome[cpt]\n",
    "\n",
    "    def update(self, myMove, itsMove):\n",
    "        self.myMoves.append(myMove)\n",
    "        self.itsMoves.append(itsMove)\n",
    "\n",
    "\n",
    "print(\"All is ok\")"
   ]
  },
  {
   "cell_type": "markdown",
   "metadata": {},
   "source": [
    "It should be noted that a large number of well-known strategies are described in the form of a `memory(X,Y)`<br>\n",
    "Mem(0,0,'C','allc')<br>\n",
    "Mem(0,0,'D','alld')<br>\n",
    "Mem(1,0,'cDC','percd')<br>\n",
    "Mem(1,0,'dDC','perdc')<br>\n",
    "Mem(0,1,'cCD','tft')<br>\n",
    "Mem(0,1,'dCD','mistrust')<br>\n",
    "Mem(1,1,'cCDDD','spiteful')<br>\n",
    "Mem(1,1,'cCDDC','pavlov')<br>\n",
    "Mem(0,2,'ccCCCD','tf2t')<br>\n",
    "Mem(0,2,'ccCDDD','hard_tft')<br>\n",
    "Mem(1,2,'ccCCCDCDDD','slow_tft')<br>\n",
    "Mem(1,2,'ccCDCDDCDD','winner12')<br>\n",
    "Mem(1,2,'ccCDCDDDDD','spiteful_cc')<br>"
   ]
  },
  {
   "cell_type": "markdown",
   "metadata": {},
   "source": [
    "## Exercise 4"
   ]
  },
  {
   "cell_type": "code",
   "execution_count": null,
   "metadata": {},
   "outputs": [],
   "source": [
    "# Small equivalence test: Make two tournaments with All_C, All_D, Tft, Spiteful, \n",
    "# Periodic('CD') and Periodic('DC').\n",
    "# The first one using Periodics, Tft() and Spiteful() classes\n",
    "# The second one using only Mem(x,y,\"\",name) to code them.\n",
    "# Check the equivalence by printing the tournament matrix\n"
   ]
  },
  {
   "cell_type": "markdown",
   "metadata": {
    "colab_type": "text",
    "id": "yjoBoqSjA1cD"
   },
   "source": [
    "## Generate them all\n",
    "For a `Mem(x,y)` family, the genome is of size `max(x,y)` for the first rounds plus `2^(x+y)` for all situations `s` of the past on `x` moves of one player and `y` moves of the other. So there are `2^(max(x,y)+2^(x+y))` strategies to generate. To obtain all these elements, it is therefore sufficient to compute all the possible instanciations of C and D in the genome, which is done, once again, with a Cartesian product.\n",
    "\n",
    "\n",
    "| family  | genome length | number of strats  |\n",
    "|         :-:   |     :-:     | :-:    |\n",
    "| mem(0,1) | 1+2^1 = 3        | 2^3 = 8 |\n",
    "| mem(1,0) | 1+2^1 = 3        | 2^3 = 8 |\n",
    "| mem(1,1) | 1+2^2 = 5        | 2^5 = 32 |\n",
    "| mem(2,0) | 2+2^2 = 6        | 2^6 = 64 |\n",
    "| mem(1,2) | 2+2^3 = 10       | 2^10 = 1024 |\n",
    "| mem(2,1) | 2+2^3 = 10       | 2^10 = 1024 |\n",
    "| mem(2,2) | 2+2^4 = 18       | 2^18 = 262144 |\n"
   ]
  },
  {
   "cell_type": "code",
   "execution_count": null,
   "metadata": {
    "colab": {},
    "colab_type": "code",
    "id": "AqEYefYhA1cE",
    "outputId": "8fb51be4-2c0e-416c-e94e-ba8c6feba5c2"
   },
   "outputs": [],
   "source": [
    "def getMem(x,y):\n",
    "    if (x+y > 4):\n",
    "        return \"Pas calculable\"\n",
    "    len_genome = max(x,y)+2**(x+y)\n",
    "    permut = [p for p in itertools.product(['C','D'], repeat=len_genome)]\n",
    "    genomes = [''.join(p) for p in permut]\n",
    "    return [Mem(x,y,gen) for gen in genomes]\n",
    "\n",
    "\n",
    "print(\"In Mem(1,1) there are \"+ str(len(getMem(1,1))) + \" strategies\")"
   ]
  },
  {
   "cell_type": "markdown",
   "metadata": {
    "colab_type": "text",
    "id": "pFGz8Y23A1cJ"
   },
   "source": [
    "## The Mem(1,1) competition"
   ]
  },
  {
   "cell_type": "code",
   "execution_count": null,
   "metadata": {
    "colab": {},
    "colab_type": "code",
    "id": "5HDTk_oaA1cK"
   },
   "outputs": [],
   "source": [
    "bag3=getMem(1,1)\n",
    "e2=Ecological(g,bag3)\n",
    "e2.run()\n",
    "e2.drawPlot(None,4)\n",
    "evol=e2.historic\n",
    "print(evol.iloc[-1][evol.iloc[-1]>0])\n",
    "# Only 4 survive : mem11_cCDDD-spite 2126  , mem11_cCDCD-tft 701 , mem11_cCDDC-pavlov 214 , mem11_cCDCC 158"
   ]
  },
  {
   "cell_type": "markdown",
   "metadata": {},
   "source": [
    "## Exercise 5"
   ]
  },
  {
   "cell_type": "code",
   "execution_count": null,
   "metadata": {},
   "outputs": [],
   "source": [
    "# What is the common name of the strategy that wins the Mem(1,1) ?"
   ]
  },
  {
   "cell_type": "markdown",
   "metadata": {},
   "source": [
    "## Exercice 6"
   ]
  },
  {
   "cell_type": "code",
   "execution_count": null,
   "metadata": {},
   "outputs": [],
   "source": [
    "# Study the phenomena of invasion\n",
    "# In particular, measure empirically (by few tests) the number of ALL_D required \n",
    "# to invade a family of 100 ALL_C in an ecological competition."
   ]
  },
  {
   "cell_type": "markdown",
   "metadata": {},
   "source": [
    "## Exercice 7"
   ]
  },
  {
   "cell_type": "code",
   "execution_count": null,
   "metadata": {},
   "outputs": [],
   "source": [
    "# Master-Slave Strategies\n",
    "# It is said that there is a set of Master-Slave strategies if a Master strategy tries to recognize \n",
    "# his Slaves on a starter, to better exploit them afterwards.\n",
    "# Develop a Master strategy that plays TFT unless the opponent has played consecutively 1 time C, \n",
    "# 50 times D, 1 time C in which case she always plays D\n",
    "# Develop a Slave strategy that plays 1 time C, 50 times D, then always C\n",
    "# Each additional slave brings an advantage to Master!\n",
    "# Add these strategies to the mem(1,1) competition by putting enough Escaves for the Master to \n",
    "# win this competition "
   ]
  },
  {
   "cell_type": "markdown",
   "metadata": {
    "colab_type": "text",
    "id": "x8z1IUB3A1ci"
   },
   "source": [
    "# Bibliography\n",
    "\n",
    "- Robert Axelrod. *The Evolution of Cooperation*. (New York: Basic Books, 1984).\n",
    "- William Poundstone. *Prisoner's Dilemma*. 1st anchor books\n",
    "- JP Delahaye et P Mathieu. *Des surprises dans le monde de la coopération*. Pour la Science, numéro spécial \"Les mathématiques sociales\", pp 58-66, Juillet 1999.\n",
    "- Philippe Mathieu, Jean-Paul Delahaye. [New Winning Strategies for the Iterated Prisoner's Dilemma](http://jasss.soc.surrey.ac.uk/20/4/12.html). J. Artificial Societies and Social Simulation 20(4) (2017)\n",
    "- Bruno Beaufils, Jean-Paul Delahaye et Philippe Mathieu. *Our Meeting with Gradual : A good Strategy for the Itareted Prisoner’s Dilemma*. Intern. Conf. on Artificial Life V (ALIFE V), pp. 159- 165, 16-18 mai 1996, Nara (Japon).\n",
    "- Martin Nowak et K. Sigmund. *TIT for TAT in Heterogeneous Populations*. Nature, vol. 355, n° 16, pp. 250-253, janvier 1992.\n",
    "- Nowak M., May R., Sigmund K., *L'arithmétique de l'entraide*, Pour la Science No 214, Août 1995, pp. 56-61 "
   ]
  }
 ],
 "metadata": {
  "colab": {
   "collapsed_sections": [],
   "name": "prisoners_dilemma_fr.ipynb",
   "provenance": []
  },
  "kernelspec": {
   "display_name": "Python 3",
   "language": "python",
   "name": "python3"
  },
  "language_info": {
   "codemirror_mode": {
    "name": "ipython",
    "version": 3
   },
   "file_extension": ".py",
   "mimetype": "text/x-python",
   "name": "python",
   "nbconvert_exporter": "python",
   "pygments_lexer": "ipython3",
   "version": "3.7.5"
  }
 },
 "nbformat": 4,
 "nbformat_minor": 1
}
